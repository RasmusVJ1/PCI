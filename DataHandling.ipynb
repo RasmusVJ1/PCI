{
 "cells": [
  {
   "cell_type": "code",
   "execution_count": 927,
   "metadata": {},
   "outputs": [],
   "source": [
    "import pandas as pd\n",
    "pd.set_option('display.max_colwidth', 50)\n",
    "import numpy as np\n",
    "import matplotlib.pyplot as plt"
   ]
  },
  {
   "cell_type": "code",
   "execution_count": 928,
   "metadata": {},
   "outputs": [
    {
     "name": "stderr",
     "output_type": "stream",
     "text": [
      "<ipython-input-928-659f2966eb4e>:2: ParserWarning: Falling back to the 'python' engine because the 'c' engine does not support regex separators (separators > 1 char and different from '\\s+' are interpreted as regex); you can avoid this warning by specifying engine='python'.\n",
      "  Data_Sept = pd.read_csv(\"C:\\\\Users\\\\Rasmu\\\\OneDrive\\\\Skrivebord\\\\Skole\\\\5. Semester\\\\Practical controls & instrumentation\\\\Data handling\\\\SPBM08.CS1\",encoding='latin-1',skiprows=15,sep = '\" ',header = 0)\n"
     ]
    }
   ],
   "source": [
    "Data_May = pd.read_csv(\"C:\\\\Users\\\\Rasmu\\\\OneDrive\\\\Skrivebord\\\\Skole\\\\5. Semester\\\\Practical controls & instrumentation\\\\Data handling\\\\MYBM08.CS1\",encoding='latin-1',skiprows=15,sep='\\t',header = 0)\n",
    "Data_Sept = pd.read_csv(\"C:\\\\Users\\\\Rasmu\\\\OneDrive\\\\Skrivebord\\\\Skole\\\\5. Semester\\\\Practical controls & instrumentation\\\\Data handling\\\\SPBM08.CS1\",encoding='latin-1',skiprows=15,sep = '\" ',header = 0)\n",
    "SIFC = pd.read_excel(\"C:\\\\Users\\\\Rasmu\\\\OneDrive\\\\Skrivebord\\\\Skole\\\\5. Semester\\\\Practical controls & instrumentation\\\\Data handling\\\\W44_SIFC_PCI_ALLDATA_EXERCISE.xlsx\",skiprows = 6)"
   ]
  },
  {
   "cell_type": "code",
   "execution_count": 929,
   "metadata": {},
   "outputs": [],
   "source": [
    "SIFC_df = SIFC[['degC','degC.1','degC.2','degC.3',' 000m3/h',' 000m3/h.1','    kg/s.8','Time']]\n",
    "SIFC_df.columns = ['degC','degC1','degC2','degC2','Flux1','Flux2','ASH KG/s','Time']"
   ]
  },
  {
   "cell_type": "code",
   "execution_count": 930,
   "metadata": {},
   "outputs": [],
   "source": [
    "Data_May['\"TIME         \" \"      MW\" \"STATUS\" \"      MW\" \"'] = Data_May['\"TIME         \" \"      MW\" \"STATUS\" \"      MW\" \"'].replace(to_replace='    ', value = '\" \"',regex = True)\n"
   ]
  },
  {
   "cell_type": "code",
   "execution_count": 931,
   "metadata": {},
   "outputs": [],
   "source": [
    "Data_May[['Time','MW','Status','MW1']] = Data_May['\"TIME         \" \"      MW\" \"STATUS\" \"      MW\" \"'].str.split('\" \"',expand = True)"
   ]
  },
  {
   "cell_type": "code",
   "execution_count": 932,
   "metadata": {},
   "outputs": [],
   "source": [
    "Data_Sept[['Time','MW']] = Data_Sept['\"TIME         '].str.split(' ',expand = True,n=1,regex = True)"
   ]
  },
  {
   "cell_type": "code",
   "execution_count": 933,
   "metadata": {},
   "outputs": [],
   "source": [
    "Data_May = Data_May.replace(to_replace='\"', value = '',regex = True)\n",
    "Data_May = Data_May.replace(to_replace=r'\\s+', value = '',regex = True)\n",
    "Data_May = Data_May.drop(Data_May.columns[[0]],axis = 1)\n",
    "Data_May = Data_May.drop(Data_May.columns[[0]],axis = 1)\n",
    "Data_May = Data_May.drop(Data_May.columns[[1]],axis = 1)\n",
    "Data_May = Data_May.drop(Data_May.columns[[1]],axis = 1)\n",
    "Data_May = Data_May.drop(Data_May.columns[[2]],axis = 1)\n",
    "Data_May = Data_May.drop(Data_May.columns[[2]],axis = 1)\n",
    "Data_May = Data_May.drop(Data_May.columns[[3]],axis = 1)\n",
    "Data_May = Data_May.drop(Data_May.columns[[3]],axis = 1)\n",
    "Data_May = Data_May.drop(Data_May.columns[[4]],axis = 1)\n",
    "Data_May = Data_May.drop(Data_May.columns[[4]],axis = 1)\n",
    "Data_May = Data_May.drop(Data_May.columns[[5]],axis = 1)\n",
    "Data_May = Data_May.drop(Data_May.columns[[5]],axis = 1)\n",
    "Data_May = Data_May.drop(Data_May.columns[[7]],axis = 1)\n",
    "Data_May = Data_May.drop(Data_May.columns[[7]],axis = 1)\n",
    "Data_May = Data_May.drop(Data_May.columns[[8]],axis = 1)\n",
    "Data_May = Data_May.drop(Data_May.columns[[8]],axis = 1)\n",
    "Data_May = Data_May.drop(Data_May.columns[[10]],axis = 1)"
   ]
  },
  {
   "cell_type": "code",
   "execution_count": 934,
   "metadata": {},
   "outputs": [],
   "source": [
    "Data_Sept = Data_Sept.dropna(axis = 1,thresh =500)"
   ]
  },
  {
   "cell_type": "code",
   "execution_count": 935,
   "metadata": {},
   "outputs": [],
   "source": [
    "Data_Sept = Data_Sept.drop(Data_Sept.columns[[0]],axis = 1)\n",
    "Data_Sept = Data_Sept.drop(Data_Sept.columns[[0]],axis = 1)\n",
    "Data_Sept = Data_Sept.drop(Data_Sept.columns[[1]],axis = 1)\n",
    "Data_Sept = Data_Sept.drop(Data_Sept.columns[[2]],axis = 1)\n",
    "Data_Sept = Data_Sept.drop(Data_Sept.columns[[3]],axis = 1)\n",
    "Data_Sept = Data_Sept.drop(Data_Sept.columns[[4]],axis = 1)\n",
    "Data_Sept = Data_Sept.drop(Data_Sept.columns[[5]],axis = 1)\n",
    "Data_Sept = Data_Sept.drop(Data_Sept.columns[[6]],axis = 1)\n",
    "Data_Sept = Data_Sept.drop(Data_Sept.columns[[7]],axis = 1)\n",
    "Data_Sept = Data_Sept.drop(Data_Sept.columns[[8]],axis = 1)"
   ]
  },
  {
   "cell_type": "code",
   "execution_count": 936,
   "metadata": {},
   "outputs": [],
   "source": [
    "Data_Sept = Data_Sept.replace(to_replace=' \"', value = '',regex = True)\n",
    "Data_Sept = Data_Sept.replace(to_replace='F', value = '',regex = True)\n",
    "Data_Sept = Data_Sept.replace(to_replace=',', value = '.',regex = True)\n"
   ]
  },
  {
   "cell_type": "code",
   "execution_count": 937,
   "metadata": {},
   "outputs": [],
   "source": [
    "Data_May.columns = ['%','PPM1','PPM2','PPM3','PPM%','KG/HR','KG/HR1','MG/NM3','Time','Boiler Load','Boiler load %']\n",
    "Data_Sept.columns = ['MW','%','PPM','PPM1','PPM2','Status%','KG/HR','MG/NM3','Time','Boiler Load']"
   ]
  },
  {
   "cell_type": "code",
   "execution_count": 938,
   "metadata": {},
   "outputs": [
    {
     "name": "stderr",
     "output_type": "stream",
     "text": [
      "<ipython-input-938-a39c0734462a>:3: SettingWithCopyWarning: \n",
      "A value is trying to be set on a copy of a slice from a DataFrame.\n",
      "Try using .loc[row_indexer,col_indexer] = value instead\n",
      "\n",
      "See the caveats in the documentation: https://pandas.pydata.org/pandas-docs/stable/user_guide/indexing.html#returning-a-view-versus-a-copy\n",
      "  SIFC_df['Time'] = pd.to_datetime(SIFC_df['Time'], format = '%Y%m%d%H%M%S')\n"
     ]
    }
   ],
   "source": [
    "Data_May['Time'] = pd.to_datetime(Data_May['Time'])\n",
    "Data_Sept['Time'] = pd.to_datetime(Data_Sept['Time'])\n",
    "SIFC_df['Time'] = pd.to_datetime(SIFC_df['Time'], format = '%Y%m%d%H%M%S')"
   ]
  },
  {
   "cell_type": "code",
   "execution_count": 939,
   "metadata": {},
   "outputs": [
    {
     "name": "stderr",
     "output_type": "stream",
     "text": [
      "<ipython-input-939-29c2b4782fd8>:3: SettingWithCopyWarning: \n",
      "A value is trying to be set on a copy of a slice from a DataFrame\n",
      "\n",
      "See the caveats in the documentation: https://pandas.pydata.org/pandas-docs/stable/user_guide/indexing.html#returning-a-view-versus-a-copy\n",
      "  Data_May['PPM3'][i] = Data_May['PPM3'][i][:-4]\n"
     ]
    }
   ],
   "source": [
    "for i in range(0,1487):\n",
    "    if Data_May['PPM3'][i].count(',')>=2:\n",
    "        Data_May['PPM3'][i] = Data_May['PPM3'][i][:-4]\n",
    "        "
   ]
  },
  {
   "cell_type": "code",
   "execution_count": 940,
   "metadata": {},
   "outputs": [],
   "source": [
    "df = Data_May.drop('Time',axis = 1)"
   ]
  },
  {
   "cell_type": "code",
   "execution_count": 941,
   "metadata": {},
   "outputs": [],
   "source": [
    "Data_May[['%','PPM1','PPM2','PPM3','PPM%','KG/HR','KG/HR1','MG/NM3','Boiler Load','Boiler load %']]= Data_May[['%','PPM1','PPM2','PPM3','PPM%','KG/HR','KG/HR1','MG/NM3','Boiler Load','Boiler load %']].replace(to_replace=',', value = '.',regex = True)"
   ]
  },
  {
   "cell_type": "code",
   "execution_count": 942,
   "metadata": {},
   "outputs": [],
   "source": [
    "Data_May[['%','PPM1','PPM2','PPM3','PPM%','KG/HR','KG/HR1','MG/NM3','Boiler Load','Boiler load %']] = Data_May[['%','PPM1','PPM2','PPM3','PPM%','KG/HR','KG/HR1','MG/NM3','Boiler Load','Boiler load %']].astype({'%':'float','PPM1':'float','PPM2':'float','PPM3':'float','PPM%':'float','KG/HR':'float','KG/HR1':'float','MG/NM3':'float','Boiler Load':'float','Boiler load %':'float'},errors = 'ignore')"
   ]
  },
  {
   "cell_type": "code",
   "execution_count": 943,
   "metadata": {},
   "outputs": [],
   "source": [
    "Data_Sept[['MW','%','PPM','PPM1','PPM2','Status%','KG/HR','MG/NM3','Boiler Load']] = Data_Sept[['MW','%','PPM','PPM1','PPM2','Status%','KG/HR','MG/NM3','Boiler Load']].astype({'MW':'float','%':'float','PPM':'float','PPM1':'float','PPM2':'float','Status%':'float','KG/HR':'float','MG/NM3':'float','Boiler Load':'float'},errors = 'ignore')"
   ]
  },
  {
   "cell_type": "code",
   "execution_count": 944,
   "metadata": {},
   "outputs": [
    {
     "name": "stderr",
     "output_type": "stream",
     "text": [
      "<ipython-input-944-af6532670b18>:3: SettingWithCopyWarning: \n",
      "A value is trying to be set on a copy of a slice from a DataFrame\n",
      "\n",
      "See the caveats in the documentation: https://pandas.pydata.org/pandas-docs/stable/user_guide/indexing.html#returning-a-view-versus-a-copy\n",
      "  Data_May['PPM3'][i] = Data_May['PPM3'][i]*1000\n"
     ]
    }
   ],
   "source": [
    "for i in range(0,len(Data_May)):\n",
    "    if Data_May['PPM3'][i] <=100:\n",
    "        Data_May['PPM3'][i] = Data_May['PPM3'][i]*1000"
   ]
  },
  {
   "cell_type": "code",
   "execution_count": 945,
   "metadata": {},
   "outputs": [
    {
     "name": "stderr",
     "output_type": "stream",
     "text": [
      "<ipython-input-945-eace46012764>:2: SettingWithCopyWarning: \n",
      "A value is trying to be set on a copy of a slice from a DataFrame\n",
      "\n",
      "See the caveats in the documentation: https://pandas.pydata.org/pandas-docs/stable/user_guide/indexing.html#returning-a-view-versus-a-copy\n",
      "  Data_May['KG/HR'][i] = Data_May['KG/HR'][i]*0.1\n"
     ]
    }
   ],
   "source": [
    "for i in range(0,len(Data_May['KG/HR'])):\n",
    "    Data_May['KG/HR'][i] = Data_May['KG/HR'][i]*0.1"
   ]
  },
  {
   "cell_type": "code",
   "execution_count": 946,
   "metadata": {},
   "outputs": [],
   "source": [
    "Data_May_New = pd.merge(\n",
    "    Data_May,\n",
    "    SIFC_df,\n",
    "    how=\"inner\",\n",
    "    on='Time',\n",
    "    left_on=None,\n",
    "    right_on=None,\n",
    "    left_index=False,\n",
    "    right_index=False,\n",
    "    sort=True,\n",
    "    suffixes=(\"_x\", \"_y\"),\n",
    "    copy=True,\n",
    "    indicator=False,\n",
    "    validate=None,\n",
    ")"
   ]
  },
  {
   "cell_type": "code",
   "execution_count": 947,
   "metadata": {},
   "outputs": [],
   "source": [
    "Data_Sept_New = pd.merge(\n",
    "    Data_Sept,\n",
    "    SIFC_df,\n",
    "    how=\"inner\",\n",
    "    on='Time',\n",
    "    left_on=None,\n",
    "    right_on=None,\n",
    "    left_index=False,\n",
    "    right_index=False,\n",
    "    sort=True,\n",
    "    suffixes=(\"_x\", \"_y\"),\n",
    "    copy=True,\n",
    "    indicator=False,\n",
    "    validate=None,\n",
    ")"
   ]
  },
  {
   "cell_type": "code",
   "execution_count": 948,
   "metadata": {},
   "outputs": [
    {
     "data": {
      "text/plain": [
       "(10471.0, 10476.0)"
      ]
     },
     "execution_count": 948,
     "metadata": {},
     "output_type": "execute_result"
    },
    {
     "data": {
      "image/png": "[encoded data removed]",
      "text/plain": [
       "<Figure size 432x288 with 1 Axes>"
      ]
     },
     "metadata": {
      "needs_background": "light"
     },
     "output_type": "display_data"
    },
    {
     "data": {
      "image/png": "[encoded data removed]",
      "text/plain": [
       "<Figure size 432x288 with 1 Axes>"
      ]
     },
     "metadata": {
      "needs_background": "light"
     },
     "output_type": "display_data"
    }
   ],
   "source": [
    "ax1 = Data_May_New.plot.scatter(x='Time',y='Boiler Load', color = 'r', label = 'May 1998')\n",
    "ax1.set_xlim(pd.Timestamp('1998-05-25'), pd.Timestamp('1998-05-30'))\n",
    "ax2 = Data_Sept_New.plot.scatter(x='Time',y='Boiler Load', color = 'b', label = 'September 1998')\n",
    "ax2.set_xlim(pd.Timestamp('1998-09-02'), pd.Timestamp('1998-09-07'))"
   ]
  }
 ],
 "metadata": {
  "kernelspec": {
   "display_name": "Python 3.9.1 64-bit",
   "language": "python",
   "name": "python3"
  },
  "language_info": {
   "codemirror_mode": {
    "name": "ipython",
    "version": 3
   },
   "file_extension": ".py",
   "mimetype": "text/x-python",
   "name": "python",
   "nbconvert_exporter": "python",
   "pygments_lexer": "ipython3",
   "version": "3.9.1"
  },
  "orig_nbformat": 4,
  "vscode": {
   "interpreter": {
    "hash": "2a1f3f576eee9dd9ce9aa7f8fae6495d6b84f2f808ee93dbf42ba8317368b51f"
   }
  }
 },
 "nbformat": 4,
 "nbformat_minor": 2
}
